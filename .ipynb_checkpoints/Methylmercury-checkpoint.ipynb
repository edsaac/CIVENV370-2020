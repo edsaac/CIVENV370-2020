{
 "cells": [
  {
   "cell_type": "code",
   "execution_count": 1,
   "metadata": {},
   "outputs": [],
   "source": [
    "%reset -f\n",
    "import numpy as np\n",
    "import matplotlib.pyplot as plt\n",
    "import matplotlib.gridspec as gs\n",
    "\n",
    "from ipywidgets import interact_manual\n",
    "import ipywidgets as widgets\n",
    "\n",
    "widgets.interact_manual.opts['manual_name'] = \"CH3Hg!\"\n",
    "np.set_printoptions(formatter={'float': '{: 0.3f}'.format})"
   ]
  },
  {
   "cell_type": "markdown",
   "metadata": {
    "slideshow": {
     "slide_type": "slide"
    }
   },
   "source": [
    "# **Methylmercury**\n",
    "\n",
    ">Please check a standalone version of this homework at:\n",
    ">\n",
    ">|**[Voilà version]**: |[![Binder](https://mybinder.org/badge_logo.svg)](https://mybinder.org/v2/gh/edsaac/LinearBoxModels/master?urlpath=voila%2Frender%2FSaavedraC_hw3.ipynb)|\n",
    ">|---|---|\n",
    ">|**[Classic notebook]**: |[![Binder](https://mybinder.org/badge_logo.svg)](https://mybinder.org/v2/gh/edsaac/LinearBoxModels/master?filepath=SaavedraC_hw3.ipynb)|\n",
    ">"
   ]
  },
  {
   "cell_type": "markdown",
   "metadata": {
    "slideshow": {
     "slide_type": "slide"
    }
   },
   "source": [
    "## **1. Where does it come from?**\n",
    "\n",
    "We cannot talk about MeHg without talking abour Hg! \n",
    "\n",
    "Elemental mercury is released from carbon burning for energy production or cement manufacturing and gold mining. These activities account by around half the mercury found in the atmosphere whereas the other half comes from volcanic activity. But methylmercury in the atmosphere is less a concern when compared to aquatic ecosystems. Mercury used in gold mining not only goes to the atmosphere but a good portion travels in the aqueous solution, interacting with sediments and other compounds hence entering the organic world.\n",
    "\n",
    "MeHg comes from the ionization of Hg0 into Hg2+ (mercuric form) that later reacts with organic matter in the environment. Elemental mercury is found in the atmosphere, however, places with high mercury pollution and MeHg are linked to its transport in aqueous solution and the presence of organic matter.  "
   ]
  },
  {
   "cell_type": "markdown",
   "metadata": {
    "slideshow": {
     "slide_type": "slide"
    }
   },
   "source": [
    "## **2. Where is it a contaminant?**\n",
    "\n",
    "**In aquatic systems**\n",
    "\n",
    "Elemental mercury It is a contaminant downstream gold mines or gold ore treatment tanks where its used for ammalgamation processes. In these evironments, mercury is transported downstream, ionizing and reacting with organic matter, hence,\n",
    "methylmercury is made. Now as an organic molecule, it makes its way in the food web, bioaccumulating and magnifying in the highest levels of the trophic web like fish. A cycle between these mercury species exists in aquatic systems, one of them being MeHg. "
   ]
  },
  {
   "cell_type": "markdown",
   "metadata": {
    "slideshow": {
     "slide_type": "slide"
    }
   },
   "source": [
    "## **3. How does the chemical get from its source to the contaminated environment?**\n",
    "\n",
    "The transport mechanism is mainly advection due to streams flowing from the gold mines towards less steep zones where the transported sediments and particles settle and accumulate. Later on. after Hg turns into MeHg, its transport is mainly diffusive from the sediments bed where methanogens or sulfate-reducing bacteria help it enter the food web. "
   ]
  },
  {
   "cell_type": "markdown",
   "metadata": {},
   "source": []
  }
 ],
 "metadata": {
  "kernelspec": {
   "display_name": "Python 3",
   "language": "python",
   "name": "python3"
  },
  "language_info": {
   "codemirror_mode": {
    "name": "ipython",
    "version": 3
   },
   "file_extension": ".py",
   "mimetype": "text/x-python",
   "name": "python",
   "nbconvert_exporter": "python",
   "pygments_lexer": "ipython3",
   "version": "3.6.9"
  }
 },
 "nbformat": 4,
 "nbformat_minor": 4
}
